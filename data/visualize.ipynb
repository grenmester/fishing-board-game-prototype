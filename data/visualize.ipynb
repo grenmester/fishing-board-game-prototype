{
 "cells": [
  {
   "cell_type": "markdown",
   "id": "bb611cf3-d4f7-4966-8069-96ee3262a4d0",
   "metadata": {},
   "source": [
    "# Fishing Board Game Card Data Analysis"
   ]
  },
  {
   "cell_type": "code",
   "execution_count": null,
   "id": "b4e23586-5113-425f-9542-30e71d74b784",
   "metadata": {},
   "outputs": [],
   "source": [
    "import math\n",
    "import pandas as pd\n",
    "import yaml"
   ]
  },
  {
   "cell_type": "markdown",
   "id": "e4bea078-53a0-4d70-b9e0-1e245833b412",
   "metadata": {},
   "source": [
    "## Fish Cards"
   ]
  },
  {
   "cell_type": "code",
   "execution_count": null,
   "id": "4b3f57c3-32e2-42ac-9a0f-61799ce99904",
   "metadata": {},
   "outputs": [],
   "source": [
    "with open(\"data.yaml\") as stream:\n",
    "    try:\n",
    "        data = yaml.safe_load(stream)\n",
    "    except yaml.YAMLError as e:\n",
    "        print(e)\n",
    "\n",
    "card_df = pd.DataFrame(data[\"cardData\"])\n",
    "card_df[\"adjustedOdds\"] = card_df[\"odds\"] * 6 ** (4 - card_df[\"numDice\"]) // 6\n",
    "card_df[\"adjustedOdds\"] = card_df[\"adjustedOdds\"].apply(lambda x: round(x / 2.16, 2))\n",
    "card_df[\"money\"] = card_df[\"adjustedOdds\"].apply(lambda x: math.floor(math.log2(360 / x))) + card_df[\"numDice\"]\n",
    "\n",
    "fish_df = pd.DataFrame(data[\"fishData\"])"
   ]
  },
  {
   "cell_type": "code",
   "execution_count": null,
   "id": "9a2e5e19-6163-4ab2-80c2-2921636f596d",
   "metadata": {},
   "outputs": [],
   "source": [
    "card_df"
   ]
  },
  {
   "cell_type": "code",
   "execution_count": null,
   "id": "203f01fa-a0c5-4ab7-b03e-b4c66c3296df",
   "metadata": {},
   "outputs": [],
   "source": [
    "fish_df"
   ]
  },
  {
   "cell_type": "code",
   "execution_count": null,
   "id": "cf8b2685-f2f7-4e28-b67c-bda3018cf426",
   "metadata": {},
   "outputs": [],
   "source": [
    "card_df[\"numDice\"].value_counts().sort_index().reset_index()"
   ]
  },
  {
   "cell_type": "code",
   "execution_count": null,
   "id": "7856eae9-c609-40fe-bcde-c101d01eba95",
   "metadata": {},
   "outputs": [],
   "source": [
    "pd.crosstab(card_df[\"reputation\"], card_df[\"money\"], margins=True)"
   ]
  },
  {
   "cell_type": "code",
   "execution_count": null,
   "id": "ab320ca2-0e4a-450e-ab94-26f69efa6be5",
   "metadata": {},
   "outputs": [],
   "source": [
    "card_df.groupby([\"numDice\", \"reputation\", \"money\", \"adjustedOdds\"]).size().reset_index(name=\"count\").sort_values([\"numDice\", \"adjustedOdds\"], ascending=[True, False]).reset_index(drop=True)"
   ]
  },
  {
   "cell_type": "code",
   "execution_count": null,
   "id": "0bacc124-a47d-4b2c-a5ee-995d497aba85",
   "metadata": {},
   "outputs": [],
   "source": [
    "pd.crosstab(fish_df[\"family\"], fish_df[\"habitat\"], margins=True)"
   ]
  },
  {
   "cell_type": "code",
   "execution_count": null,
   "id": "35b99a0e-fcc8-4b65-8411-190c9393ab78",
   "metadata": {},
   "outputs": [],
   "source": [
    "pd.crosstab(fish_df[\"rarity\"], fish_df[\"habitat\"], margins=True)"
   ]
  },
  {
   "cell_type": "code",
   "execution_count": null,
   "id": "e813d5fb-9615-44ea-8017-242c17b70cd6",
   "metadata": {},
   "outputs": [],
   "source": [
    "sorted_df = fish_df.sort_values(by=[\"habitat\", \"family\", \"rarity\", \"name\"])\n",
    "\n",
    "markdown_lines = [\n",
    "    \"| name | scientificName | habitat | family | rarity |\",\n",
    "    \"|------|----------------|---------|--------|--------|\"\n",
    "]\n",
    "\n",
    "for _, row in sorted_df.iterrows():\n",
    "    markdown_lines.append(\n",
    "        f\"| {row['name']} | {row['scientificName']} | {row['habitat']} | \"\n",
    "        f\"{row['family']} | {row['rarity']} |\"\n",
    "    )\n",
    "\n",
    "with open(\"fish_table.md\", \"w\") as file:\n",
    "    file.write(\"\\n\".join(markdown_lines))"
   ]
  },
  {
   "cell_type": "markdown",
   "id": "0b76ce92-be26-4b83-9cca-dc296999b796",
   "metadata": {},
   "source": [
    "### Scientific Name Analysis"
   ]
  },
  {
   "cell_type": "code",
   "execution_count": null,
   "id": "2b8df0e8-fc3d-4800-a89d-a073e08929b1",
   "metadata": {},
   "outputs": [],
   "source": [
    "with open(\"fish_tax_data.yaml\") as stream:\n",
    "    try:\n",
    "        data = yaml.safe_load(stream)\n",
    "    except yaml.YAMLError as e:\n",
    "        print(e)\n",
    "\n",
    "tax_df = pd.DataFrame(data[\"fishData\"])"
   ]
  },
  {
   "cell_type": "code",
   "execution_count": null,
   "id": "4d6c34c5-0c73-45c0-8caa-03168bc86015",
   "metadata": {},
   "outputs": [],
   "source": [
    "tax_df"
   ]
  },
  {
   "cell_type": "code",
   "execution_count": null,
   "id": "f5ca7b43-12c3-49e9-8199-0046f91dccfd",
   "metadata": {},
   "outputs": [],
   "source": [
    "tax_df[\"scientificOrder\"].value_counts().reset_index()"
   ]
  },
  {
   "cell_type": "code",
   "execution_count": null,
   "id": "7bec51dd-4371-4964-b9a0-0abf7e9b7d77",
   "metadata": {},
   "outputs": [],
   "source": [
    "tax_count_df = tax_df[[\"scientificOrder\", \"scientificFamily\", \"family\"]].value_counts().sort_index().reset_index()\n",
    "tax_count_df[tax_count_df[\"count\"] == 1]"
   ]
  },
  {
   "cell_type": "code",
   "execution_count": null,
   "id": "a65338c6-a7ff-4d80-99f1-2da319674ffa",
   "metadata": {},
   "outputs": [],
   "source": [
    "tax_df[[\"scientificOrder\", \"family\"]].value_counts().sort_index().reset_index()"
   ]
  },
  {
   "cell_type": "code",
   "execution_count": null,
   "id": "1ba3329d-2573-4f46-ae27-65deebf01b0e",
   "metadata": {},
   "outputs": [],
   "source": [
    "duplicate_sci_fam_df = tax_count_df[tax_count_df.duplicated('scientificFamily', keep=False)]\n",
    "duplicate_sci_fam_df.groupby('scientificFamily').filter(lambda x: x['family'].nunique() > 1)"
   ]
  },
  {
   "cell_type": "code",
   "execution_count": null,
   "id": "7b6b9681-958b-4f92-b351-ad565586d4a2",
   "metadata": {},
   "outputs": [],
   "source": [
    "fam_count_df = tax_df[[\"family\", \"scientificFamily\"]].value_counts().sort_index().reset_index()\n",
    "duplicate_fam_df = fam_count_df[fam_count_df.duplicated('family', keep=False)]\n",
    "duplicate_fam_df.groupby('family').filter(lambda x: x['scientificFamily'].nunique() > 1)"
   ]
  },
  {
   "cell_type": "code",
   "execution_count": null,
   "id": "f72108d2-e188-415a-b5a9-d8338f0b1916",
   "metadata": {},
   "outputs": [],
   "source": [
    "order_count_df = tax_df[[\"family\", \"scientificOrder\"]].value_counts().sort_index().reset_index()\n",
    "duplicate_order_df = order_count_df[order_count_df.duplicated('family', keep=False)]\n",
    "duplicate_order_df.groupby('family').filter(lambda x: x['scientificOrder'].nunique() > 1)"
   ]
  },
  {
   "cell_type": "code",
   "execution_count": null,
   "id": "aec4a30b-5d0d-44ee-8f88-6272134f575d",
   "metadata": {},
   "outputs": [],
   "source": []
  }
 ],
 "metadata": {
  "kernelspec": {
   "display_name": "Python 3 (ipykernel)",
   "language": "python",
   "name": "python3"
  },
  "language_info": {
   "codemirror_mode": {
    "name": "ipython",
    "version": 3
   },
   "file_extension": ".py",
   "mimetype": "text/x-python",
   "name": "python",
   "nbconvert_exporter": "python",
   "pygments_lexer": "ipython3",
   "version": "3.13.5"
  }
 },
 "nbformat": 4,
 "nbformat_minor": 5
}
